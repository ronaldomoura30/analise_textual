{
 "cells": [
  {
   "cell_type": "code",
   "execution_count": 2,
   "metadata": {},
   "outputs": [],
   "source": [
    "from sklearn.naive_bayes import MultinomialNB                                "
   ]
  },
  {
   "cell_type": "code",
   "execution_count": 3,
   "metadata": {},
   "outputs": [
    {
     "data": {
      "image/png": "[encoded data removed]",
      "text/plain": [
       "<IPython.core.display.Image object>"
      ]
     },
     "execution_count": 3,
     "metadata": {},
     "output_type": "execute_result"
    }
   ],
   "source": [
    "from IPython.display import Image\n",
    "\n",
    "Image(\"./imagens/Problema Alura.PNG\")"
   ]
  },
  {
   "cell_type": "code",
   "execution_count": 17,
   "metadata": {},
   "outputs": [],
   "source": [
    "porco1 = [1,1,0]\n",
    "porco2 = [1,1,0]\n",
    "porco3 = [1,1,0]\n",
    "cachorro1 = [1,1,1]\n",
    "cachorro2 = [0,1,1]\n",
    "cachorro3 = [0,1,1]\n",
    "\n",
    "misterioso1 = [1,1,1]\n",
    "misterioso2 = [1,0,0]\n",
    "misterioso3 = [1,0,1]"
   ]
  },
  {
   "cell_type": "code",
   "execution_count": 25,
   "metadata": {},
   "outputs": [],
   "source": [
    "# Massa de dados\n",
    "dados = [porco1, porco2, porco3, cachorro1, cachorro2, cachorro3]\n",
    "testes = [misterioso1, misterioso2, misterioso3]\n",
    "\n",
    "# Classificação quanto ao tipo do animal\n",
    "# Porco = 1\n",
    "# Cachorro = -1\n",
    "\n",
    "marcadores = [1, 1, 1, -1, -1, -1]\n",
    "marcacoes_teste = [-1, 1, -1]"
   ]
  },
  {
   "cell_type": "code",
   "execution_count": 7,
   "metadata": {},
   "outputs": [],
   "source": [
    "\"\"\"\n",
    "Obs.: De maneira geral a previsão o algoritmo MultinomialNB funciona identificando e classificando os elementos por meio\n",
    "das características que foram passadas no treinamento.\n",
    "\"\"\"\n",
    "# Criando um modelo\n",
    "modelo = MultinomialNB()"
   ]
  },
  {
   "cell_type": "code",
   "execution_count": 8,
   "metadata": {},
   "outputs": [
    {
     "data": {
      "text/plain": [
       "MultinomialNB(alpha=1.0, class_prior=None, fit_prior=True)"
      ]
     },
     "execution_count": 8,
     "metadata": {},
     "output_type": "execute_result"
    }
   ],
   "source": [
    "#Treinando o modelo (Fazendo com o que modelo aprenda a distinguir se é porco ou cachorro pelas características)\n",
    "modelo.fit(dados, marcadores)"
   ]
  },
  {
   "cell_type": "code",
   "execution_count": 26,
   "metadata": {},
   "outputs": [
    {
     "data": {
      "text/plain": [
       "array([-1,  1, -1])"
      ]
     },
     "execution_count": 26,
     "metadata": {},
     "output_type": "execute_result"
    }
   ],
   "source": [
    "# Predizendo o que é o animal miserioso\n",
    "resultado = modelo.predict(testes)\n",
    "resultado"
   ]
  },
  {
   "cell_type": "code",
   "execution_count": 28,
   "metadata": {},
   "outputs": [
    {
     "name": "stdout",
     "output_type": "stream",
     "text": [
      "Resultado da predição:  [-1  1 -1]\n",
      "Gabarito dos dados de teste:  [-1, 1, -1]\n",
      "Diferença:  [0 0 0]\n",
      "Taxa de acertos:  100.0\n"
     ]
    }
   ],
   "source": [
    "\"\"\"\n",
    "Verificando a acuracia do modelo\n",
    "resultado = São as inferencias que o modelo predice tendo por base o as caracteristicas e resultados passados no treino\n",
    "marcacoes_teste = São os resultados esperados para os dados enviados para predição\n",
    "\"\"\"\n",
    "diferenca = resultado - marcacoes_teste\n",
    "print(\"Resultado da predição: \", resultado)\n",
    "print(\"Gabarito dos dados de teste: \", marcacoes_teste)\n",
    "print(\"Diferença: \", diferenca)\n",
    "\n",
    "acertos = [acerto for acerto in diferenca if acerto == 0]\n",
    "total_acertos = len(acertos)\n",
    "total_elementos = len(testes)\n",
    "print(\"Taxa de acertos: \", (100 * (total_acertos / total_elementos)))\n"
   ]
  }
 ],
 "metadata": {
  "kernelspec": {
   "display_name": "Python 3",
   "language": "python",
   "name": "python3"
  },
  "language_info": {
   "codemirror_mode": {
    "name": "ipython",
    "version": 3
   },
   "file_extension": ".py",
   "mimetype": "text/x-python",
   "name": "python",
   "nbconvert_exporter": "python",
   "pygments_lexer": "ipython3",
   "version": "3.7.3"
  }
 },
 "nbformat": 4,
 "nbformat_minor": 2
}
